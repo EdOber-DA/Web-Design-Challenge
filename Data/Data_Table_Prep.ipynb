{
 "cells": [
  {
   "cell_type": "code",
   "execution_count": 1,
   "metadata": {},
   "outputs": [],
   "source": [
    "##### Create Data Table from reuse of VacationPy code - read int and output as HTML Table \n",
    "# Dependencies\n",
    "\n",
    "import numpy as np\n",
    "import pandas as pd\n",
    "from IPython.display import HTML"
   ]
  },
  {
   "cell_type": "code",
   "execution_count": 2,
   "metadata": {},
   "outputs": [],
   "source": [
    "# read in the csv created in the WeatherPy section\n",
    "city_data = pd.read_csv(\"City_DataFrame_CSV_Output.csv\",dtype=\"object\", encoding=\"utf-8\")"
   ]
  },
  {
   "cell_type": "code",
   "execution_count": 3,
   "metadata": {},
   "outputs": [],
   "source": [
    "# Fix data types\n",
    "city_data[[\"City Latitude\", \"City Longitude\",'Temperature (F)','Humidity %','Cloud Coverage %','Wind Speed (mph)']] = city_data[[\"City Latitude\", \"City Longitude\",'Temperature (F)','Humidity %','Cloud Coverage %','Wind Speed (mph)']].astype(float)\n"
   ]
  },
  {
   "cell_type": "code",
   "execution_count": 4,
   "metadata": {},
   "outputs": [
    {
     "output_type": "execute_result",
     "data": {
      "text/plain": [
       "             City  Temperature (F)  Humidity %  Cloud Coverage %  \\\n",
       "0         Rikitea            78.71        78.0              36.0   \n",
       "1    Puerto Ayora            84.20        74.0              40.0   \n",
       "2       Saskylakh           -11.78        87.0             100.0   \n",
       "3         Aksarka           -12.62        93.0              96.0   \n",
       "4          Barrow           -11.20        70.0               1.0   \n",
       "..            ...              ...         ...               ...   \n",
       "536       Honāvar            78.04        84.0              30.0   \n",
       "537        Camaná            76.28        76.0              73.0   \n",
       "538    Kolondiéba           100.87        10.0               0.0   \n",
       "539       Buluang            75.34        87.0             100.0   \n",
       "540        Ixtapa            78.80        53.0               1.0   \n",
       "\n",
       "     Wind Speed (mph)  Latitude  Longitude Country                 Local Time  \\\n",
       "0               16.40  -23.1203  -134.9692      PF  Thu, 11 Mar 2021 08:10:27   \n",
       "1                9.22   -0.7393   -90.3518      EC  Thu, 11 Mar 2021 11:10:28   \n",
       "2               18.37   71.9167   114.0833      RU  Fri, 12 Mar 2021 02:10:28   \n",
       "3               18.61   66.5606    67.7975      RU  Thu, 11 Mar 2021 22:10:28   \n",
       "4                9.22   71.2906  -156.7887      US  Thu, 11 Mar 2021 08:10:29   \n",
       "..                ...       ...        ...     ...                        ...   \n",
       "536              1.61   14.2833    74.4500      IN  Thu, 11 Mar 2021 22:46:11   \n",
       "537              6.64  -16.6228   -72.7111      PE  Thu, 11 Mar 2021 12:16:12   \n",
       "538              6.87   11.0882    -6.8926      ML  Thu, 11 Mar 2021 17:16:12   \n",
       "539              4.43   13.3068   123.3425      PH  Fri, 12 Mar 2021 01:16:12   \n",
       "540              5.35   20.7000  -105.2000      MX  Thu, 11 Mar 2021 11:16:13   \n",
       "\n",
       "    Random_Latitude Random_Longitude  \n",
       "0            -45.98          -138.65  \n",
       "1             -6.42          -102.73  \n",
       "2             72.34           114.57  \n",
       "3             64.74            68.78  \n",
       "4             69.86          -161.43  \n",
       "..              ...              ...  \n",
       "536           13.61            73.01  \n",
       "537          -20.86           -76.24  \n",
       "538           10.93            -6.91  \n",
       "539           13.43           116.32  \n",
       "540            9.68          -105.08  \n",
       "\n",
       "[541 rows x 11 columns]"
      ],
      "text/html": "<div>\n<style scoped>\n    .dataframe tbody tr th:only-of-type {\n        vertical-align: middle;\n    }\n\n    .dataframe tbody tr th {\n        vertical-align: top;\n    }\n\n    .dataframe thead th {\n        text-align: right;\n    }\n</style>\n<table border=\"1\" class=\"dataframe\">\n  <thead>\n    <tr style=\"text-align: right;\">\n      <th></th>\n      <th>City</th>\n      <th>Temperature (F)</th>\n      <th>Humidity %</th>\n      <th>Cloud Coverage %</th>\n      <th>Wind Speed (mph)</th>\n      <th>Latitude</th>\n      <th>Longitude</th>\n      <th>Country</th>\n      <th>Local Time</th>\n      <th>Random_Latitude</th>\n      <th>Random_Longitude</th>\n    </tr>\n  </thead>\n  <tbody>\n    <tr>\n      <th>0</th>\n      <td>Rikitea</td>\n      <td>78.71</td>\n      <td>78.0</td>\n      <td>36.0</td>\n      <td>16.40</td>\n      <td>-23.1203</td>\n      <td>-134.9692</td>\n      <td>PF</td>\n      <td>Thu, 11 Mar 2021 08:10:27</td>\n      <td>-45.98</td>\n      <td>-138.65</td>\n    </tr>\n    <tr>\n      <th>1</th>\n      <td>Puerto Ayora</td>\n      <td>84.20</td>\n      <td>74.0</td>\n      <td>40.0</td>\n      <td>9.22</td>\n      <td>-0.7393</td>\n      <td>-90.3518</td>\n      <td>EC</td>\n      <td>Thu, 11 Mar 2021 11:10:28</td>\n      <td>-6.42</td>\n      <td>-102.73</td>\n    </tr>\n    <tr>\n      <th>2</th>\n      <td>Saskylakh</td>\n      <td>-11.78</td>\n      <td>87.0</td>\n      <td>100.0</td>\n      <td>18.37</td>\n      <td>71.9167</td>\n      <td>114.0833</td>\n      <td>RU</td>\n      <td>Fri, 12 Mar 2021 02:10:28</td>\n      <td>72.34</td>\n      <td>114.57</td>\n    </tr>\n    <tr>\n      <th>3</th>\n      <td>Aksarka</td>\n      <td>-12.62</td>\n      <td>93.0</td>\n      <td>96.0</td>\n      <td>18.61</td>\n      <td>66.5606</td>\n      <td>67.7975</td>\n      <td>RU</td>\n      <td>Thu, 11 Mar 2021 22:10:28</td>\n      <td>64.74</td>\n      <td>68.78</td>\n    </tr>\n    <tr>\n      <th>4</th>\n      <td>Barrow</td>\n      <td>-11.20</td>\n      <td>70.0</td>\n      <td>1.0</td>\n      <td>9.22</td>\n      <td>71.2906</td>\n      <td>-156.7887</td>\n      <td>US</td>\n      <td>Thu, 11 Mar 2021 08:10:29</td>\n      <td>69.86</td>\n      <td>-161.43</td>\n    </tr>\n    <tr>\n      <th>...</th>\n      <td>...</td>\n      <td>...</td>\n      <td>...</td>\n      <td>...</td>\n      <td>...</td>\n      <td>...</td>\n      <td>...</td>\n      <td>...</td>\n      <td>...</td>\n      <td>...</td>\n      <td>...</td>\n    </tr>\n    <tr>\n      <th>536</th>\n      <td>Honāvar</td>\n      <td>78.04</td>\n      <td>84.0</td>\n      <td>30.0</td>\n      <td>1.61</td>\n      <td>14.2833</td>\n      <td>74.4500</td>\n      <td>IN</td>\n      <td>Thu, 11 Mar 2021 22:46:11</td>\n      <td>13.61</td>\n      <td>73.01</td>\n    </tr>\n    <tr>\n      <th>537</th>\n      <td>Camaná</td>\n      <td>76.28</td>\n      <td>76.0</td>\n      <td>73.0</td>\n      <td>6.64</td>\n      <td>-16.6228</td>\n      <td>-72.7111</td>\n      <td>PE</td>\n      <td>Thu, 11 Mar 2021 12:16:12</td>\n      <td>-20.86</td>\n      <td>-76.24</td>\n    </tr>\n    <tr>\n      <th>538</th>\n      <td>Kolondiéba</td>\n      <td>100.87</td>\n      <td>10.0</td>\n      <td>0.0</td>\n      <td>6.87</td>\n      <td>11.0882</td>\n      <td>-6.8926</td>\n      <td>ML</td>\n      <td>Thu, 11 Mar 2021 17:16:12</td>\n      <td>10.93</td>\n      <td>-6.91</td>\n    </tr>\n    <tr>\n      <th>539</th>\n      <td>Buluang</td>\n      <td>75.34</td>\n      <td>87.0</td>\n      <td>100.0</td>\n      <td>4.43</td>\n      <td>13.3068</td>\n      <td>123.3425</td>\n      <td>PH</td>\n      <td>Fri, 12 Mar 2021 01:16:12</td>\n      <td>13.43</td>\n      <td>116.32</td>\n    </tr>\n    <tr>\n      <th>540</th>\n      <td>Ixtapa</td>\n      <td>78.80</td>\n      <td>53.0</td>\n      <td>1.0</td>\n      <td>5.35</td>\n      <td>20.7000</td>\n      <td>-105.2000</td>\n      <td>MX</td>\n      <td>Thu, 11 Mar 2021 11:16:13</td>\n      <td>9.68</td>\n      <td>-105.08</td>\n    </tr>\n  </tbody>\n</table>\n<p>541 rows × 11 columns</p>\n</div>"
     },
     "metadata": {},
     "execution_count": 4
    }
   ],
   "source": [
    "# rename the columns to nicer table headers\n",
    "city_data.rename(columns={\"City Name\":\"City\",\"City Country\":\"Country\",\"City Local Date_Time\":\"Local Time\",\"City Latitude\":\"Latitude\",\"City Longitude\":\"Longitude\"},inplace= True)\n",
    "city_data"
   ]
  },
  {
   "cell_type": "code",
   "execution_count": 5,
   "metadata": {},
   "outputs": [
    {
     "output_type": "execute_result",
     "data": {
      "text/plain": [
       "             City  Temperature (F)  Humidity %  Cloud Coverage %  \\\n",
       "0         Rikitea            78.71        78.0              36.0   \n",
       "1    Puerto Ayora            84.20        74.0              40.0   \n",
       "2       Saskylakh           -11.78        87.0             100.0   \n",
       "3         Aksarka           -12.62        93.0              96.0   \n",
       "4          Barrow           -11.20        70.0               1.0   \n",
       "..            ...              ...         ...               ...   \n",
       "536       Honāvar            78.04        84.0              30.0   \n",
       "537        Camaná            76.28        76.0              73.0   \n",
       "538    Kolondiéba           100.87        10.0               0.0   \n",
       "539       Buluang            75.34        87.0             100.0   \n",
       "540        Ixtapa            78.80        53.0               1.0   \n",
       "\n",
       "     Wind Speed (mph)  Latitude  Longitude Country                 Local Time  \\\n",
       "0               16.40  -23.1203  -134.9692      PF  Thu, 11 Mar 2021 08:10:27   \n",
       "1                9.22   -0.7393   -90.3518      EC  Thu, 11 Mar 2021 11:10:28   \n",
       "2               18.37   71.9167   114.0833      RU  Fri, 12 Mar 2021 02:10:28   \n",
       "3               18.61   66.5606    67.7975      RU  Thu, 11 Mar 2021 22:10:28   \n",
       "4                9.22   71.2906  -156.7887      US  Thu, 11 Mar 2021 08:10:29   \n",
       "..                ...       ...        ...     ...                        ...   \n",
       "536              1.61   14.2833    74.4500      IN  Thu, 11 Mar 2021 22:46:11   \n",
       "537              6.64  -16.6228   -72.7111      PE  Thu, 11 Mar 2021 12:16:12   \n",
       "538              6.87   11.0882    -6.8926      ML  Thu, 11 Mar 2021 17:16:12   \n",
       "539              4.43   13.3068   123.3425      PH  Fri, 12 Mar 2021 01:16:12   \n",
       "540              5.35   20.7000  -105.2000      MX  Thu, 11 Mar 2021 11:16:13   \n",
       "\n",
       "    Random_Latitude Random_Longitude  City ID  \n",
       "0            -45.98          -138.65        0  \n",
       "1             -6.42          -102.73        1  \n",
       "2             72.34           114.57        2  \n",
       "3             64.74            68.78        3  \n",
       "4             69.86          -161.43        4  \n",
       "..              ...              ...      ...  \n",
       "536           13.61            73.01      536  \n",
       "537          -20.86           -76.24      537  \n",
       "538           10.93            -6.91      538  \n",
       "539           13.43           116.32      539  \n",
       "540            9.68          -105.08      540  \n",
       "\n",
       "[541 rows x 12 columns]"
      ],
      "text/html": "<div>\n<style scoped>\n    .dataframe tbody tr th:only-of-type {\n        vertical-align: middle;\n    }\n\n    .dataframe tbody tr th {\n        vertical-align: top;\n    }\n\n    .dataframe thead th {\n        text-align: right;\n    }\n</style>\n<table border=\"1\" class=\"dataframe\">\n  <thead>\n    <tr style=\"text-align: right;\">\n      <th></th>\n      <th>City</th>\n      <th>Temperature (F)</th>\n      <th>Humidity %</th>\n      <th>Cloud Coverage %</th>\n      <th>Wind Speed (mph)</th>\n      <th>Latitude</th>\n      <th>Longitude</th>\n      <th>Country</th>\n      <th>Local Time</th>\n      <th>Random_Latitude</th>\n      <th>Random_Longitude</th>\n      <th>City ID</th>\n    </tr>\n  </thead>\n  <tbody>\n    <tr>\n      <th>0</th>\n      <td>Rikitea</td>\n      <td>78.71</td>\n      <td>78.0</td>\n      <td>36.0</td>\n      <td>16.40</td>\n      <td>-23.1203</td>\n      <td>-134.9692</td>\n      <td>PF</td>\n      <td>Thu, 11 Mar 2021 08:10:27</td>\n      <td>-45.98</td>\n      <td>-138.65</td>\n      <td>0</td>\n    </tr>\n    <tr>\n      <th>1</th>\n      <td>Puerto Ayora</td>\n      <td>84.20</td>\n      <td>74.0</td>\n      <td>40.0</td>\n      <td>9.22</td>\n      <td>-0.7393</td>\n      <td>-90.3518</td>\n      <td>EC</td>\n      <td>Thu, 11 Mar 2021 11:10:28</td>\n      <td>-6.42</td>\n      <td>-102.73</td>\n      <td>1</td>\n    </tr>\n    <tr>\n      <th>2</th>\n      <td>Saskylakh</td>\n      <td>-11.78</td>\n      <td>87.0</td>\n      <td>100.0</td>\n      <td>18.37</td>\n      <td>71.9167</td>\n      <td>114.0833</td>\n      <td>RU</td>\n      <td>Fri, 12 Mar 2021 02:10:28</td>\n      <td>72.34</td>\n      <td>114.57</td>\n      <td>2</td>\n    </tr>\n    <tr>\n      <th>3</th>\n      <td>Aksarka</td>\n      <td>-12.62</td>\n      <td>93.0</td>\n      <td>96.0</td>\n      <td>18.61</td>\n      <td>66.5606</td>\n      <td>67.7975</td>\n      <td>RU</td>\n      <td>Thu, 11 Mar 2021 22:10:28</td>\n      <td>64.74</td>\n      <td>68.78</td>\n      <td>3</td>\n    </tr>\n    <tr>\n      <th>4</th>\n      <td>Barrow</td>\n      <td>-11.20</td>\n      <td>70.0</td>\n      <td>1.0</td>\n      <td>9.22</td>\n      <td>71.2906</td>\n      <td>-156.7887</td>\n      <td>US</td>\n      <td>Thu, 11 Mar 2021 08:10:29</td>\n      <td>69.86</td>\n      <td>-161.43</td>\n      <td>4</td>\n    </tr>\n    <tr>\n      <th>...</th>\n      <td>...</td>\n      <td>...</td>\n      <td>...</td>\n      <td>...</td>\n      <td>...</td>\n      <td>...</td>\n      <td>...</td>\n      <td>...</td>\n      <td>...</td>\n      <td>...</td>\n      <td>...</td>\n      <td>...</td>\n    </tr>\n    <tr>\n      <th>536</th>\n      <td>Honāvar</td>\n      <td>78.04</td>\n      <td>84.0</td>\n      <td>30.0</td>\n      <td>1.61</td>\n      <td>14.2833</td>\n      <td>74.4500</td>\n      <td>IN</td>\n      <td>Thu, 11 Mar 2021 22:46:11</td>\n      <td>13.61</td>\n      <td>73.01</td>\n      <td>536</td>\n    </tr>\n    <tr>\n      <th>537</th>\n      <td>Camaná</td>\n      <td>76.28</td>\n      <td>76.0</td>\n      <td>73.0</td>\n      <td>6.64</td>\n      <td>-16.6228</td>\n      <td>-72.7111</td>\n      <td>PE</td>\n      <td>Thu, 11 Mar 2021 12:16:12</td>\n      <td>-20.86</td>\n      <td>-76.24</td>\n      <td>537</td>\n    </tr>\n    <tr>\n      <th>538</th>\n      <td>Kolondiéba</td>\n      <td>100.87</td>\n      <td>10.0</td>\n      <td>0.0</td>\n      <td>6.87</td>\n      <td>11.0882</td>\n      <td>-6.8926</td>\n      <td>ML</td>\n      <td>Thu, 11 Mar 2021 17:16:12</td>\n      <td>10.93</td>\n      <td>-6.91</td>\n      <td>538</td>\n    </tr>\n    <tr>\n      <th>539</th>\n      <td>Buluang</td>\n      <td>75.34</td>\n      <td>87.0</td>\n      <td>100.0</td>\n      <td>4.43</td>\n      <td>13.3068</td>\n      <td>123.3425</td>\n      <td>PH</td>\n      <td>Fri, 12 Mar 2021 01:16:12</td>\n      <td>13.43</td>\n      <td>116.32</td>\n      <td>539</td>\n    </tr>\n    <tr>\n      <th>540</th>\n      <td>Ixtapa</td>\n      <td>78.80</td>\n      <td>53.0</td>\n      <td>1.0</td>\n      <td>5.35</td>\n      <td>20.7000</td>\n      <td>-105.2000</td>\n      <td>MX</td>\n      <td>Thu, 11 Mar 2021 11:16:13</td>\n      <td>9.68</td>\n      <td>-105.08</td>\n      <td>540</td>\n    </tr>\n  </tbody>\n</table>\n<p>541 rows × 12 columns</p>\n</div>"
     },
     "metadata": {},
     "execution_count": 5
    }
   ],
   "source": [
    "# add a column that has the index info, which we will drop when we export to HTML\n",
    "city_data[\"City ID\"]= city_data.index\n",
    "city_data"
   ]
  },
  {
   "cell_type": "code",
   "execution_count": 6,
   "metadata": {},
   "outputs": [],
   "source": [
    "# reorder the columns into a cleaner presentation\n",
    "city_data_final = city_data[[\"City ID\",\"City\",\"Country\",\"Local Time\",\"Latitude\",\"Longitude\",'Temperature (F)','Humidity %','Cloud Coverage %','Wind Speed (mph)']]"
   ]
  },
  {
   "cell_type": "code",
   "execution_count": 80,
   "metadata": {},
   "outputs": [],
   "source": []
  },
  {
   "cell_type": "code",
   "execution_count": 7,
   "metadata": {},
   "outputs": [
    {
     "output_type": "execute_result",
     "data": {
      "text/plain": [
       "     City ID          City Country                 Local Time  Latitude  \\\n",
       "0          0       Rikitea      PF  Thu, 11 Mar 2021 08:10:27  -23.1203   \n",
       "1          1  Puerto Ayora      EC  Thu, 11 Mar 2021 11:10:28   -0.7393   \n",
       "2          2     Saskylakh      RU  Fri, 12 Mar 2021 02:10:28   71.9167   \n",
       "3          3       Aksarka      RU  Thu, 11 Mar 2021 22:10:28   66.5606   \n",
       "4          4        Barrow      US  Thu, 11 Mar 2021 08:10:29   71.2906   \n",
       "..       ...           ...     ...                        ...       ...   \n",
       "536      536       Honāvar      IN  Thu, 11 Mar 2021 22:46:11   14.2833   \n",
       "537      537        Camaná      PE  Thu, 11 Mar 2021 12:16:12  -16.6228   \n",
       "538      538    Kolondiéba      ML  Thu, 11 Mar 2021 17:16:12   11.0882   \n",
       "539      539       Buluang      PH  Fri, 12 Mar 2021 01:16:12   13.3068   \n",
       "540      540        Ixtapa      MX  Thu, 11 Mar 2021 11:16:13   20.7000   \n",
       "\n",
       "     Longitude  Temperature (F)  Humidity %  Cloud Coverage %  \\\n",
       "0    -134.9692            78.71        78.0              36.0   \n",
       "1     -90.3518            84.20        74.0              40.0   \n",
       "2     114.0833           -11.78        87.0             100.0   \n",
       "3      67.7975           -12.62        93.0              96.0   \n",
       "4    -156.7887           -11.20        70.0               1.0   \n",
       "..         ...              ...         ...               ...   \n",
       "536    74.4500            78.04        84.0              30.0   \n",
       "537   -72.7111            76.28        76.0              73.0   \n",
       "538    -6.8926           100.87        10.0               0.0   \n",
       "539   123.3425            75.34        87.0             100.0   \n",
       "540  -105.2000            78.80        53.0               1.0   \n",
       "\n",
       "     Wind Speed (mph)  \n",
       "0               16.40  \n",
       "1                9.22  \n",
       "2               18.37  \n",
       "3               18.61  \n",
       "4                9.22  \n",
       "..                ...  \n",
       "536              1.61  \n",
       "537              6.64  \n",
       "538              6.87  \n",
       "539              4.43  \n",
       "540              5.35  \n",
       "\n",
       "[541 rows x 10 columns]"
      ],
      "text/html": "<div>\n<style scoped>\n    .dataframe tbody tr th:only-of-type {\n        vertical-align: middle;\n    }\n\n    .dataframe tbody tr th {\n        vertical-align: top;\n    }\n\n    .dataframe thead th {\n        text-align: right;\n    }\n</style>\n<table border=\"1\" class=\"dataframe\">\n  <thead>\n    <tr style=\"text-align: right;\">\n      <th></th>\n      <th>City ID</th>\n      <th>City</th>\n      <th>Country</th>\n      <th>Local Time</th>\n      <th>Latitude</th>\n      <th>Longitude</th>\n      <th>Temperature (F)</th>\n      <th>Humidity %</th>\n      <th>Cloud Coverage %</th>\n      <th>Wind Speed (mph)</th>\n    </tr>\n  </thead>\n  <tbody>\n    <tr>\n      <th>0</th>\n      <td>0</td>\n      <td>Rikitea</td>\n      <td>PF</td>\n      <td>Thu, 11 Mar 2021 08:10:27</td>\n      <td>-23.1203</td>\n      <td>-134.9692</td>\n      <td>78.71</td>\n      <td>78.0</td>\n      <td>36.0</td>\n      <td>16.40</td>\n    </tr>\n    <tr>\n      <th>1</th>\n      <td>1</td>\n      <td>Puerto Ayora</td>\n      <td>EC</td>\n      <td>Thu, 11 Mar 2021 11:10:28</td>\n      <td>-0.7393</td>\n      <td>-90.3518</td>\n      <td>84.20</td>\n      <td>74.0</td>\n      <td>40.0</td>\n      <td>9.22</td>\n    </tr>\n    <tr>\n      <th>2</th>\n      <td>2</td>\n      <td>Saskylakh</td>\n      <td>RU</td>\n      <td>Fri, 12 Mar 2021 02:10:28</td>\n      <td>71.9167</td>\n      <td>114.0833</td>\n      <td>-11.78</td>\n      <td>87.0</td>\n      <td>100.0</td>\n      <td>18.37</td>\n    </tr>\n    <tr>\n      <th>3</th>\n      <td>3</td>\n      <td>Aksarka</td>\n      <td>RU</td>\n      <td>Thu, 11 Mar 2021 22:10:28</td>\n      <td>66.5606</td>\n      <td>67.7975</td>\n      <td>-12.62</td>\n      <td>93.0</td>\n      <td>96.0</td>\n      <td>18.61</td>\n    </tr>\n    <tr>\n      <th>4</th>\n      <td>4</td>\n      <td>Barrow</td>\n      <td>US</td>\n      <td>Thu, 11 Mar 2021 08:10:29</td>\n      <td>71.2906</td>\n      <td>-156.7887</td>\n      <td>-11.20</td>\n      <td>70.0</td>\n      <td>1.0</td>\n      <td>9.22</td>\n    </tr>\n    <tr>\n      <th>...</th>\n      <td>...</td>\n      <td>...</td>\n      <td>...</td>\n      <td>...</td>\n      <td>...</td>\n      <td>...</td>\n      <td>...</td>\n      <td>...</td>\n      <td>...</td>\n      <td>...</td>\n    </tr>\n    <tr>\n      <th>536</th>\n      <td>536</td>\n      <td>Honāvar</td>\n      <td>IN</td>\n      <td>Thu, 11 Mar 2021 22:46:11</td>\n      <td>14.2833</td>\n      <td>74.4500</td>\n      <td>78.04</td>\n      <td>84.0</td>\n      <td>30.0</td>\n      <td>1.61</td>\n    </tr>\n    <tr>\n      <th>537</th>\n      <td>537</td>\n      <td>Camaná</td>\n      <td>PE</td>\n      <td>Thu, 11 Mar 2021 12:16:12</td>\n      <td>-16.6228</td>\n      <td>-72.7111</td>\n      <td>76.28</td>\n      <td>76.0</td>\n      <td>73.0</td>\n      <td>6.64</td>\n    </tr>\n    <tr>\n      <th>538</th>\n      <td>538</td>\n      <td>Kolondiéba</td>\n      <td>ML</td>\n      <td>Thu, 11 Mar 2021 17:16:12</td>\n      <td>11.0882</td>\n      <td>-6.8926</td>\n      <td>100.87</td>\n      <td>10.0</td>\n      <td>0.0</td>\n      <td>6.87</td>\n    </tr>\n    <tr>\n      <th>539</th>\n      <td>539</td>\n      <td>Buluang</td>\n      <td>PH</td>\n      <td>Fri, 12 Mar 2021 01:16:12</td>\n      <td>13.3068</td>\n      <td>123.3425</td>\n      <td>75.34</td>\n      <td>87.0</td>\n      <td>100.0</td>\n      <td>4.43</td>\n    </tr>\n    <tr>\n      <th>540</th>\n      <td>540</td>\n      <td>Ixtapa</td>\n      <td>MX</td>\n      <td>Thu, 11 Mar 2021 11:16:13</td>\n      <td>20.7000</td>\n      <td>-105.2000</td>\n      <td>78.80</td>\n      <td>53.0</td>\n      <td>1.0</td>\n      <td>5.35</td>\n    </tr>\n  </tbody>\n</table>\n<p>541 rows × 10 columns</p>\n</div>"
     },
     "metadata": {},
     "execution_count": 7
    }
   ],
   "source": [
    "city_data_final"
   ]
  },
  {
   "cell_type": "code",
   "execution_count": 8,
   "metadata": {},
   "outputs": [],
   "source": [
    "# Output the dataframe as a table, but drop the index to make pretty and consistent\n",
    "city_data_final.to_html('table_output.html',index=False)"
   ]
  },
  {
   "cell_type": "code",
   "execution_count": null,
   "metadata": {},
   "outputs": [],
   "source": []
  }
 ],
 "metadata": {
  "kernelspec": {
   "display_name": "Python 3",
   "language": "python",
   "name": "python3"
  },
  "language_info": {
   "codemirror_mode": {
    "name": "ipython",
    "version": 3
   },
   "file_extension": ".py",
   "mimetype": "text/x-python",
   "name": "python",
   "nbconvert_exporter": "python",
   "pygments_lexer": "ipython3",
   "version": "3.8.5-final"
  }
 },
 "nbformat": 4,
 "nbformat_minor": 4
}